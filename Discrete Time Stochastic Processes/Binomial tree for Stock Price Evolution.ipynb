{
 "cells": [
  {
   "cell_type": "code",
   "execution_count": 86,
   "id": "80e49426",
   "metadata": {},
   "outputs": [
    {
     "name": "stdout",
     "output_type": "stream",
     "text": [
      "Terminal Values for N =  0 [100.0]\n",
      "Terminal Values for N =  1 [133.0, 75.0]\n",
      "Terminal Values for N =  2 [177.0, 100.0, 57.0]\n",
      "Terminal Values for N =  3 [235.0, 133.0, 75.0, 43.0]\n",
      "Terminal Values for N =  4 [313.0, 177.0, 100.0, 57.0, 32.0]\n",
      "Terminal Values for N =  5 [416.0, 235.0, 133.0, 75.0, 43.0, 24.0]\n",
      "Terminal Values for N =  6 [553.0, 313.0, 177.0, 100.0, 57.0, 32.0, 18.0]\n"
     ]
    }
   ],
   "source": [
    "import numpy as np\n",
    "import pandas as pd\n",
    "\n",
    "def binomial_model_fn(N, S0, u):\n",
    "    d = 1 / u\n",
    "    stock = np.zeros([N+1, N+1])\n",
    "    for i in range(N+1):\n",
    "        for j in range(i+1):\n",
    "            stock[j, i] = S0 * (u ** (i - j)) * (d ** j)           \n",
    "    return stock\n",
    "\n",
    "if __name__ == \"__main__\":\n",
    "    op_price_value = binomial_model_fn(6, 100, 1.33)\n",
    "    for i in range(7):\n",
    "        d = op_price_value[:,i]\n",
    "        d = list(filter(lambda x: x != 0, d))\n",
    "        np_list = np.array(d)\n",
    "        np_round = np.around(np_list, 0)\n",
    "        round_to = list(np_round)\n",
    "        print(\"Terminal Values for N = \", i , round_to)\n",
    "    "
   ]
  },
  {
   "cell_type": "markdown",
   "id": "9247fc60",
   "metadata": {},
   "source": [
    "omega = {553.0, 313.0, 177.0, 100.0, 57.0, 32.0, 18.0}\n",
    "phi = an empty set\n",
    "F(0) at time t = 0 is {omega, phi}\n",
    "F(1) at time t = 1 is {(416.0, 235.0, 133.0, 75.0, 43.0),(235.0, 133.0, 75.0, 43.0, 24.0),omega, phi}\n",
    "F(2) at time t = 2 is {(313,177,100),(177,100,57),(100,57,32), F(0), F(1), omega, phi}\n",
    "F(3) at time t = 3 is {(235,133),(133,75),(75,43), F(0), F(1), F(2), omega, phi}\n",
    "F(4) at time t = 4 is {(177,100),(100,57), F(0), F(1), F(2), F(3), omega, phi}\n",
    "F(5) at time t = 5 is {(133,75), F(0), F(1), F(2), F(3), F(4), omega, phi}"
   ]
  },
  {
   "cell_type": "code",
   "execution_count": 89,
   "id": "b7720b47",
   "metadata": {},
   "outputs": [],
   "source": []
  },
  {
   "cell_type": "code",
   "execution_count": 90,
   "id": "762490d4",
   "metadata": {},
   "outputs": [],
   "source": []
  },
  {
   "cell_type": "code",
   "execution_count": null,
   "id": "121bc23b",
   "metadata": {},
   "outputs": [],
   "source": []
  }
 ],
 "metadata": {
  "kernelspec": {
   "display_name": "Python 3",
   "language": "python",
   "name": "python3"
  },
  "language_info": {
   "codemirror_mode": {
    "name": "ipython",
    "version": 3
   },
   "file_extension": ".py",
   "mimetype": "text/x-python",
   "name": "python",
   "nbconvert_exporter": "python",
   "pygments_lexer": "ipython3",
   "version": "3.9.2"
  }
 },
 "nbformat": 4,
 "nbformat_minor": 5
}
