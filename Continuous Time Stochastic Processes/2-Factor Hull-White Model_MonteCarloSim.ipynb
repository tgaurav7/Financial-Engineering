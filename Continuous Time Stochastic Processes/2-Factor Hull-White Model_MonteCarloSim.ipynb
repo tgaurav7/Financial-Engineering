{
 "cells": [
  {
   "cell_type": "code",
   "execution_count": 849,
   "metadata": {},
   "outputs": [],
   "source": [
    "import pandas as pd\n",
    "import numpy as np\n",
    "import random\n",
    "import matplotlib.pyplot as plt\n",
    "import seaborn as sns\n",
    "\n",
    "from math import exp, sqrt, log\n",
    "from scipy.stats import norm"
   ]
  },
  {
   "cell_type": "markdown",
   "metadata": {},
   "source": [
    "## Import Selected Dataset "
   ]
  },
  {
   "cell_type": "code",
   "execution_count": 850,
   "metadata": {},
   "outputs": [],
   "source": [
    "libor_data = pd.read_csv('LIBOR_3MTH.csv')\n",
    "libor_data = libor_data[['Date', 'Close']]\n",
    "libor_data['Close'] = libor_data['Close'].apply(lambda x: float(x.replace('\"', '').replace('%', '')))\n",
    "\n",
    "sigma_libor = libor_data['Close'].std()"
   ]
  },
  {
   "cell_type": "markdown",
   "metadata": {},
   "source": [
    "## Monte Carlo Simulation "
   ]
  },
  {
   "cell_type": "markdown",
   "metadata": {},
   "source": [
    "Recall that the 2-Factor Hull-White Model follows: \\\n",
    "\\begin{equation}\n",
    "dr_t = (\\theta_t + u_t - \\bar{\\alpha_t}r_t)dt + \\sigma_{1,t}dW_{1,t} \n",
    "\\end{equation}\n",
    "\n",
    "\\begin{equation}\n",
    "du_t = -\\bar{\\beta_t}u_tdt + \\sigma_{2,t}dW_{2,t}\n",
    "\\end{equation}"
   ]
  },
  {
   "cell_type": "markdown",
   "metadata": {},
   "source": [
    "To model the 2 brownian motion - $W_1$ and $W_2$, we made use of the following property:\n",
    "* $W_t - W_s \\sim N(0,s)$"
   ]
  },
  {
   "cell_type": "code",
   "execution_count": 851,
   "metadata": {},
   "outputs": [],
   "source": [
    "random.seed(999) # to ensure reproducibility of results"
   ]
  },
  {
   "cell_type": "code",
   "execution_count": 852,
   "metadata": {},
   "outputs": [],
   "source": [
    "# 1 year of data\n",
    "T = 1\n",
    "no_of_steps = libor_data.shape[0]\n",
    "dT = [T/no_of_steps*step for step in range(no_of_steps)]\n",
    "time_steps = 1/libor_data.shape[0]\n",
    "dB1 = [np.random.normal(loc=0, scale=sqrt(t)) for t in dT]\n",
    "dB2 = [np.random.normal(loc=0, scale=sqrt(t)) for t in dT]\n",
    "\n",
    "B1 = [0] + [sum(dB1[:i]) for i in range(1, no_of_steps)]\n",
    "B2 = [0] + [sum(dB2[:i]) for i in range(1, no_of_steps)]\n",
    "\n",
    "sigma1 = np.std(B1)\n",
    "sigma2 = np.std(B2)\n",
    "\n",
    "rho_bar = np.corrcoef(B1, B2)[0][1]"
   ]
  },
  {
   "cell_type": "markdown",
   "metadata": {},
   "source": [
    "We will denote the following variables: \\\n",
    "$\\alpha = \\bar{\\alpha}$ \\\n",
    "$\\beta = \\bar{\\beta}$ \\\n",
    "$\\sigma = \\sqrt{\\sigma_1^2 + \\frac{\\sigma_2^2}{(\\bar{\\beta}-\\bar{\\alpha})^2}+ 2\\bar{\\rho}\\frac{\\sigma_1 \\sigma_2}{\\bar{\\beta}-\\bar{\\alpha}}}$ \\\n",
    "$\\mathbf{n}=\\frac{\\sigma_2}{\\bar{\\alpha}-\\bar{\\beta}}$ \\\n",
    "$\\rho = \\frac{\\sigma_1 \\bar{\\rho}-\\mathbf{n}}{\\sigma}$ "
   ]
  },
  {
   "cell_type": "code",
   "execution_count": 853,
   "metadata": {},
   "outputs": [],
   "source": [
    "# assume some values for alpha and beta\n",
    "a, b = 15, 20\n",
    "assert a-b != 0"
   ]
  },
  {
   "cell_type": "code",
   "execution_count": 854,
   "metadata": {},
   "outputs": [],
   "source": [
    "# calculate the formula as per above\n",
    "sigma = sqrt(sigma1**2 + sigma2**2/(a-b)**2 + 2*rho_bar*sigma1*sigma2/(b-a))\n",
    "n = sigma2/(a-b)\n",
    "rho = (sigma1*rho_bar-n)/sigma"
   ]
  },
  {
   "cell_type": "markdown",
   "metadata": {},
   "source": [
    "We made use of these 2 equation from the paper:\n",
    "\n",
    "\\begin{equation}\n",
    "x(t) = x(s) e^{-\\alpha(t-s)} + M_x^T(s,t) + \\sigma\\int_s^t e^{-\\alpha(t-u)}dW_{1,u}\n",
    "\\end{equation}\n",
    "\n",
    "\\begin{equation}\n",
    "y(t) = y(s) e^{-\\beta(t-s)} + M_y^T(s,t) + \\sigma\\int_s^t e^{-\\beta(t-u)}dW_{2,u}\n",
    "\\end{equation}\n",
    "\n",
    "with\n",
    "\n",
    "\\begin{equation}\n",
    "M_x^T(s,t) = (\\frac{\\sigma^2}{\\alpha^2} + \\rho \\frac{\\sigma \\mathbf{n}}{\\alpha \\beta})(1-e^{-\\alpha(t-s)}) - \\frac{\\sigma^2}{2 \\alpha^2}(e^{-\\alpha(T-t)} - e^{-\\alpha (T+t-2s)}) - \\frac{\\rho \\sigma \\mathbf{n}}{\\beta(\\alpha+\\beta)}(e^{-\\beta(T-t)}-e^{-\\beta T - \\alpha t + (\\alpha+\\beta)s})\n",
    "\\end{equation}\n",
    "\n",
    "\\begin{equation}\n",
    "M_y^T(s,t) = (\\frac{\\mathbf{n}^2}{\\beta^2} + \\rho \\frac{\\sigma \\mathbf{n}}{\\alpha \\beta})(1-e^{-\\beta(t-s)}) - \n",
    "\\frac{\\mathbf{n}^2}{2 \\beta^2}(e^{-\\beta(T-t)} - e^{-\\beta (T+t-2s)}) - \n",
    "\\frac{\\rho \\sigma \\mathbf{n}}{\\beta(\\alpha+\\beta)}(e^{-\\alpha(T-t)}-e^{-\\beta T - \\beta t + (\\alpha+\\beta)s})\n",
    "\\end{equation}\n",
    "\n",
    "to generate $r_t \\sim N(\\bar{r_t}, \\sigma_{r_t})$ :\n",
    "\n",
    "\\begin{equation}\n",
    "\\mathbb{E} (r_t | \\mathcal{F}) = x(s) e^{-\\alpha(t-s)} + y(s) e^{-\\beta(t-s)} - M_x^T(s,t) - M_y^T(s,t) + \\phi(t)\n",
    "\\end{equation}\n",
    "\n",
    "\\begin{equation}\n",
    "Var(r_t | \\mathcal{F}) = \\frac{\\sigma^2}{2\\alpha^2}(1-e^{-2\\alpha(t-s)}) + \\frac{\\mathbf{n}^2}{2\\beta^2}(1-e^{-2\\beta(t-s)}) + 2\\frac{\\sigma \\mathbf{n}}{\\alpha + \\beta}(1-e^{(\\alpha + \\beta)(t-s)})\n",
    "\\end{equation}\n",
    "\n",
    "Recall that $\\phi(t)$ is a function of $t$ that satisfy $\\phi(0)=r_0$. For our ease of calculation, we define $\\phi(t)$ as follows:\n",
    "\\begin{equation}\n",
    "\\phi(t) = r_0 e^{-0.1t}\n",
    "\\end{equation}"
   ]
  },
  {
   "cell_type": "code",
   "execution_count": 855,
   "metadata": {},
   "outputs": [],
   "source": [
    "def MxT(s:int, t:int) -> float:\n",
    "    term1 = ((sigma/a)**2+rho*sigma*n/(a*b))*(1-exp(-a*(t-s)))\n",
    "    term2 = 0.5*(sigma/a)**2*(exp(-a*(T-t))-exp(-a*(T+t-2*s)))\n",
    "    term3 = rho*sigma*n/b/(a+b)*(exp(-b*(T-t))-exp(-b*T-a*t+(a+b)*s))\n",
    "    return term1-term2-term3\n",
    "\n",
    "def MyT(s:int, t:int) -> float:\n",
    "    term1 = ((n/b)**2+rho*sigma*n/(a*b))*(1-exp(-b*(t-s)))\n",
    "    term2 = 0.5*(n/b)**2*(exp(-b*(T-t))-exp(-b*(T+t-2*s)))\n",
    "    term3 = rho*sigma*n/a/(a+b)*(exp(-a*(T-t))-exp(-a*T-b*t+(a+b)*s))\n",
    "    return term1-term2-term3"
   ]
  },
  {
   "cell_type": "code",
   "execution_count": 856,
   "metadata": {},
   "outputs": [],
   "source": [
    "# created a new dataframe to work with\n",
    "df_main = pd.DataFrame({\n",
    "    's': [0] + dT[:len(dT) - 1],\n",
    "    't': dT,\n",
    "    'B1': B1,\n",
    "    'B1s': 0,\n",
    "    'dB1': dB1,\n",
    "    'B2': B2,\n",
    "    'B2s': 0,\n",
    "    'dB2': dB2\n",
    "})"
   ]
  },
  {
   "cell_type": "code",
   "execution_count": 857,
   "metadata": {},
   "outputs": [],
   "source": [
    "df_main['phi_t'] = df_main['t'].apply(lambda x: exp(-0.1 * x))\n",
    "df_main['MxT'] = df_main.apply(lambda x: MxT(x['s'], x['t']), axis=1)\n",
    "df_main['xt'] = df_main.apply(lambda x: x['MxT'] + sigma * exp(-a * x['t']) * (x['B1'] - exp(-a * x['t']) * x['B1s']),\n",
    "                              axis=1)\n",
    "df_main['MyT'] = df_main.apply(lambda x: MyT(x['s'], x['t']), axis=1)\n",
    "df_main['yt'] = df_main.apply(lambda x: x['MyT'] + sigma * exp(-b * x['t']) * (x['B2'] - exp(-b * x['t']) * x['B2s']),\n",
    "                              axis=1)\n",
    "\n",
    "# to add the first term to xt and yt\n",
    "xt = df_main['xt'].tolist()\n",
    "for i, x in enumerate(xt):\n",
    "    if i == 0: continue\n",
    "    xt[i] += xt[i - 1] * exp(-a * (df_main['t'][i] - df_main['s'][i]))\n",
    "\n",
    "yt = df_main['yt'].tolist()\n",
    "for i, y in enumerate(yt):\n",
    "    if i == 0: continue\n",
    "    yt[i] += yt[i - 1] * exp(-b * (df_main['t'][i] - df_main['s'][i]))\n",
    "    \n",
    "df_main['xt'] = xt\n",
    "df_main['yt'] = yt"
   ]
  },
  {
   "cell_type": "markdown",
   "metadata": {},
   "source": [
    "To simulate $r_t \\sim N(\\bar{r_t}, \\sigma_{r_t})$ :\n",
    "\n",
    "\\begin{equation}\n",
    "\\mathbb{E} (r_t | \\mathcal{F}) = x(s) e^{-\\alpha(t-s)} + y(s) e^{-\\beta(t-s)} - M_x^T(s,t) - M_y^T(s,t) + \\phi(t)\n",
    "\\end{equation}\n",
    "\n",
    "\\begin{equation}\n",
    "Var(r_t | \\mathcal{F}) = \\frac{\\sigma^2}{2\\alpha^2}(1-e^{-2\\alpha(t-s)}) + \\frac{\\mathbf{n}^2}{2\\beta^2}(1-e^{-2\\beta(t-s)}) + 2\\frac{\\sigma \\mathbf{n}}{\\alpha + \\beta}(1-e^{(\\alpha + \\beta)(t-s)})\n",
    "\\end{equation}\n",
    "\n",
    "Recall that $\\phi(t)$ is a function of $t$ that satisfy $\\phi(0)=r_0$. For our ease of calculation, we define $\\phi(t)$ as follows:\n",
    "\\begin{equation}\n",
    "\\phi(t) = r_0 e^{-0.1t}\n",
    "\\end{equation}"
   ]
  },
  {
   "cell_type": "code",
   "execution_count": 858,
   "metadata": {},
   "outputs": [],
   "source": [
    "def gen_sigma_rt(t: float, s: float):\n",
    "    term1 = 0.5 * sigma ** 2 / a ** 2 * (1 - exp(-2 * a * (t - s)))\n",
    "    term2 = 0.5 * n ** 2 / b ** 2 * (1 - exp(-2 * b * (t - s)))\n",
    "    term3 = 2 * sigma * n / (a + b) * (1 - exp((a + b) * (t - s)))\n",
    "    return term1 + term2 + term3"
   ]
  },
  {
   "cell_type": "code",
   "execution_count": 859,
   "metadata": {},
   "outputs": [],
   "source": [
    "# generating the mean (E_rt) and variance (sigma_rt)\n",
    "df_main['E_rt'] = df_main.apply(lambda x: x['xt'] * exp(-a * (x['t'] - x['s'])) + x['yt'] * exp(-b * (x['t'] - x['s'])) -\n",
    "                                          x['MxT'] - x['MyT'] + x['phi_t'], axis=1)\n",
    "df_main['sigma_rt'] = df_main.apply(lambda x: gen_sigma_rt(t=x['t'], s=x['s']), axis=1)"
   ]
  },
  {
   "cell_type": "code",
   "execution_count": 860,
   "metadata": {},
   "outputs": [],
   "source": [
    "# to start the simulation\n",
    "df_main['rt'] = df_main.apply(lambda x: np.random.normal(loc=x['E_rt'], scale=x['sigma_rt']), axis=1)\n",
    "\n",
    "# to ensure our interest rate do not fall into the negative range (pricing will fail)\n",
    "df_main['rt'] = df_main['rt'].apply(lambda x: x if x > 0 else 0.01)"
   ]
  },
  {
   "cell_type": "markdown",
   "metadata": {},
   "source": [
    "## Caplet Pricing Model"
   ]
  },
  {
   "cell_type": "markdown",
   "metadata": {},
   "source": [
    "After simulating the interest rates using the 2-Factor Hull-White Model, we will now apply it into the Black-Scholes pricing model. We are pricing a caplet with strike $K=0.5$. The caplet expires in a year $T=1$.\n",
    "\n",
    "\\begin{equation}\n",
    "\\pi_{Call}(t) = S_t \\Phi(d_1(t)) - Ke^{-r(T-t)} \\Phi(d_2(t))\n",
    "\\end{equation}\n",
    "\n",
    "where \\\n",
    "$d_1(t) = \\frac{ln(\\frac{S_t}{K}) + (r + \\frac{1}{2}\\sigma^2)(T-t)}{\\sigma \\sqrt{T-t}}$ and \\\n",
    "$d_2(t) = d_1(t) - \\sigma \\sqrt{T-t}$\n"
   ]
  },
  {
   "cell_type": "code",
   "execution_count": 861,
   "metadata": {},
   "outputs": [],
   "source": [
    "def BS_pricing_model(S: float, K: float, r: float,\n",
    "                     sigma: float, T: float, t: float,\n",
    "                     call_option: bool = True) -> float:\n",
    "    d2 = ((r + 0.5 * sigma ** 2) * (T - t) - log(K / S)) / (sigma * sqrt(T - t))\n",
    "    d1 = d2 + sigma * sqrt(T - t)\n",
    "    if call_option:\n",
    "        return S * norm.cdf(d1) - K * exp(-r * (T - t)) * norm.cdf(d2)\n",
    "    else:\n",
    "        return K * exp(-r * (T - t)) * norm.cdf(-d2) - S * norm.cdf(-d1)"
   ]
  },
  {
   "cell_type": "code",
   "execution_count": 862,
   "metadata": {},
   "outputs": [],
   "source": [
    "K = 0.5"
   ]
  },
  {
   "cell_type": "code",
   "execution_count": 863,
   "metadata": {},
   "outputs": [],
   "source": [
    "# Analytical Approach\n",
    "libor_main = pd.DataFrame({\n",
    "    't': df_main['t'],\n",
    "    'libor': libor_data['Close']\n",
    "})\n",
    "\n",
    "libor_main['caplet_price_libor'] = libor_main.apply(\n",
    "    lambda x: BS_pricing_model(S=x['libor'], K=K, r=0, sigma=sigma_libor, T=1, t=x['t']), axis=1)"
   ]
  },
  {
   "cell_type": "code",
   "execution_count": 864,
   "metadata": {},
   "outputs": [],
   "source": [
    "# Monte Carlo Simulation\n",
    "df_main['caplet_price'] = df_main.apply(lambda x: BS_pricing_model(S=x['rt'], K=K, r=0, sigma=sigma, T=1, t=x['t']),\n",
    "                                        axis=1)"
   ]
  },
  {
   "cell_type": "markdown",
   "metadata": {},
   "source": [
    "## Approach Comparison "
   ]
  },
  {
   "cell_type": "code",
   "execution_count": 865,
   "metadata": {},
   "outputs": [
    {
     "data": {
      "image/png": "[encoded data removed]",
      "text/plain": [
       "<Figure size 432x288 with 1 Axes>"
      ]
     },
     "metadata": {
      "needs_background": "light"
     },
     "output_type": "display_data"
    }
   ],
   "source": [
    "sns.lineplot(data=libor_main, x=\"t\", y=\"libor\")\n",
    "sns.lineplot(data=df_main, x=\"t\", y=\"rt\")\n",
    "plt.title(\"Interest Rate\")\n",
    "plt.legend(labels=[\"Libor\",\"MonteCarlo\"])\n",
    "plt.show()"
   ]
  },
  {
   "cell_type": "code",
   "execution_count": 866,
   "metadata": {},
   "outputs": [
    {
     "data": {
      "image/png": "[encoded data removed]",
      "text/plain": [
       "<Figure size 432x288 with 1 Axes>"
      ]
     },
     "metadata": {
      "needs_background": "light"
     },
     "output_type": "display_data"
    }
   ],
   "source": [
    "sns.lineplot(data=libor_main, x=\"t\", y=\"caplet_price_libor\")\n",
    "sns.lineplot(data=df_main, x=\"t\", y=\"caplet_price\")\n",
    "plt.title(\"Caplet Price\")\n",
    "plt.legend(labels=[\"Libor\",\"MonteCarlo\"])\n",
    "plt.show()"
   ]
  }
 ],
 "metadata": {
  "kernelspec": {
   "display_name": "Python 3",
   "language": "python",
   "name": "python3"
  },
  "language_info": {
   "codemirror_mode": {
    "name": "ipython",
    "version": 3
   },
   "file_extension": ".py",
   "mimetype": "text/x-python",
   "name": "python",
   "nbconvert_exporter": "python",
   "pygments_lexer": "ipython3",
   "version": "3.7.7"
  }
 },
 "nbformat": 4,
 "nbformat_minor": 4
}
