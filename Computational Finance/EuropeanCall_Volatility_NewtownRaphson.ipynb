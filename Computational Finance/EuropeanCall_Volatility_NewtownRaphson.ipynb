{
 "cells": [
  {
   "cell_type": "markdown",
   "metadata": {},
   "source": [
    "# Group Work Project - Computational Finance - Submission 2\n",
    "# Price a Vanilla European Call Option"
   ]
  },
  {
   "cell_type": "code",
   "execution_count": 50,
   "metadata": {},
   "outputs": [],
   "source": [
    "# import relevant libraries\n",
    "import numpy as np\n",
    "import matplotlib.pyplot as plt\n",
    "from scipy.stats import norm"
   ]
  },
  {
   "cell_type": "code",
   "execution_count": 51,
   "metadata": {},
   "outputs": [],
   "source": [
    "# Market information\n",
    "risk_free = 0.08\n",
    "\n",
    "# Share specific information\n",
    "S_0 = 100\n",
    "sigma = 0.3\n",
    "gamma = 0.75\n",
    "v_0 = 0.06\n",
    "kappa = 9\n",
    "theta = 0.06\n",
    "rho = -0.4\n",
    "\n",
    "# Option specific information\n",
    "strike = 100\n",
    "T = 1"
   ]
  },
  {
   "cell_type": "markdown",
   "metadata": {},
   "source": [
    "## 1- Price a vanilla call option under Heston model"
   ]
  },
  {
   "cell_type": "code",
   "execution_count": 52,
   "metadata": {},
   "outputs": [
    {
     "name": "stdout",
     "output_type": "stream",
     "text": [
      "Call price Heston model = 13.7349\n"
     ]
    }
   ],
   "source": [
    "# Integral approximation information\n",
    "t_max = 30\n",
    "N = 100\n",
    "\n",
    "# Characteristic function code\n",
    "\n",
    "a = sigma**2/2\n",
    "\n",
    "def b(u):\n",
    "    return kappa-rho*sigma*1j*u\n",
    "\n",
    "def c(u):\n",
    "    return -(u**2+1j*u)/2\n",
    "\n",
    "def d(u):\n",
    "    return np.sqrt(b(u)**2-4*a*c(u))\n",
    "\n",
    "def xminus(u):\n",
    "    return (b(u)-d(u))/(2*a)\n",
    "\n",
    "def xplus(u):\n",
    "    return (b(u)+d(u))/(2*a)\n",
    "\n",
    "def g(u):\n",
    "    return xminus(u)/xplus(u)\n",
    "\n",
    "def C(u):\n",
    "    val = T*xminus(u)-np.log((1-g(u)*np.exp(-d(u)*T))/(1-g(u)))/a\n",
    "    return 1j*risk_free*T*u+theta*kappa*val\n",
    "\n",
    "def D(u):\n",
    "    val1 = 1-np.exp(-d(u)*T)\n",
    "    val2 = 1-g(u)*np.exp(-d(u)*T)\n",
    "    return (val1/val2)*xminus(u)\n",
    "\n",
    "def log_char(u):\n",
    "    return np.exp(C(u)+D(u)*v_0+1j*u*np.log(S_0))\n",
    "\n",
    "def adj_char(u):\n",
    "    return log_char(u-1j)/log_char(-1j)\n",
    "\n",
    "# Calculating delta_t and constructing t_n\n",
    "delta_t = t_max / N\n",
    "from_1_to_N = np.linspace(1, N, N)\n",
    "t_n = (from_1_to_N - 1/2)*delta_t\n",
    "\n",
    "# Approximate integral estimates\n",
    "k_log = np.log(strike)\n",
    "first_integral = sum((np.exp(-1j*t_n*k_log)*adj_char(t_n)).imag*delta_t/t_n)\n",
    "second_integral = sum((np.exp(-1j*t_n*k_log)*log_char(t_n)).imag*delta_t/t_n)\n",
    "\n",
    "# Calculate call price\n",
    "fourier_call_val = S_0*(1/2+first_integral/np.pi)-np.exp(-risk_free*T)*strike*(1/2+second_integral/np.pi)\n",
    "\n",
    "print(f'Call price Heston model = {fourier_call_val:g}')"
   ]
  },
  {
   "cell_type": "markdown",
   "metadata": {},
   "source": [
    "## 2 - Simulate path for the underlying share using CEV model"
   ]
  },
  {
   "cell_type": "code",
   "execution_count": 53,
   "metadata": {},
   "outputs": [],
   "source": [
    "def share_path_cev(S_0, r, sigma, gamma, T, N, sample_size):\n",
    "    '''Generates a share path using CEV model\n",
    "    \n",
    "    S_0: float\n",
    "        Initial share price\n",
    "        \n",
    "    r: float\n",
    "        risk free interest rate\n",
    "    \n",
    "    sigma: float\n",
    "            Stock volatility\n",
    "            \n",
    "    gamma: float\n",
    "        CEV gamma parameter\n",
    "    \n",
    "    T: float\n",
    "        Time to maturity (in years)\n",
    "    \n",
    "    N: integer\n",
    "        Number of discrete steps in the path\n",
    "       \n",
    "    sample_size: integer\n",
    "        Number of sample paths to be simulated\n",
    "    '''\n",
    "    dT = T/N\n",
    "    path = np.ones((N+1, sample_size))*S_0\n",
    "    sigma_lv = np.ones((N, sample_size))*sigma*path[:-1, :]**(gamma-1)\n",
    "    Z = norm.rvs(size = (N, sample_size))\n",
    "    for i in range(1, N):\n",
    "        path[i:, :] = path[i-1]*np.exp(np.cumsum((r-sigma_lv[i-1:, :]**2/2)\n",
    "                                                   *dT+sigma_lv[i-1:, :]*np.sqrt(dT)*Z[i-1:, :], axis=0))\n",
    "        sigma_lv[i:, :] = sigma*path[i:-1, :]**(gamma-1)\n",
    "    return path"
   ]
  },
  {
   "cell_type": "code",
   "execution_count": 54,
   "metadata": {
    "scrolled": false
   },
   "outputs": [],
   "source": [
    "# Set random seed for reproducibility\n",
    "np.random.seed(17)\n",
    "\n",
    "# Different sample sizes to be simulated\n",
    "sample_sizes = range(1000, 51000, 1000)\n",
    "\n",
    "# Simulate paths for the underlying share using different sample sizes\n",
    "paths = [share_path_cev(S_0, risk_free, sigma, gamma, T, 12, n) for n in sample_sizes]"
   ]
  },
  {
   "cell_type": "markdown",
   "metadata": {},
   "source": [
    "## 3 - Price vanilla call option using Monte Carlo method"
   ]
  },
  {
   "cell_type": "code",
   "execution_count": 55,
   "metadata": {},
   "outputs": [],
   "source": [
    "def discounted_call_payoff(S_T, K, r, T):\n",
    "    '''Evaluate the discounted call payoff \n",
    "    \n",
    "        Parameters\n",
    "    ----------------   \n",
    "    S_T: float\n",
    "        Terminal share price\n",
    "   \n",
    "    K: float\n",
    "        Option strike price\n",
    "    \n",
    "    r: float\n",
    "        risk free interest rate\n",
    "    \n",
    "    T: float\n",
    "        Time to maturity (in years)\n",
    "    '''   \n",
    "    return np.exp(-r*T)*np.maximum(S_T-K, 0)"
   ]
  },
  {
   "cell_type": "code",
   "execution_count": 56,
   "metadata": {
    "scrolled": false
   },
   "outputs": [],
   "source": [
    "# Arrays to store estimates values\n",
    "mccall_estimates = np.zeros(len(sample_sizes))\n",
    "mccall_se = np.zeros(len(sample_sizes))\n",
    "\n",
    "# Generate Monte Carlo estimates as a function of sample size\n",
    "for i in range(len(sample_sizes)):\n",
    "    terminal_prices = paths[i][-1,:]\n",
    "    call_values = discounted_call_payoff(terminal_prices, strike, risk_free, T)\n",
    "    mccall_estimates[i] = call_values.mean()\n",
    "    mccall_se[i] = call_values.std()/np.sqrt((i+1)*1000)"
   ]
  },
  {
   "cell_type": "markdown",
   "metadata": {},
   "source": [
    "## 4 - Plot Monte Carlo estimates with 99.7% confidence interval bounds"
   ]
  },
  {
   "cell_type": "code",
   "execution_count": 57,
   "metadata": {},
   "outputs": [
    {
     "data": {
      "image/png": "[encoded data removed]",
      "text/plain": [
       "<Figure size 432x288 with 1 Axes>"
      ]
     },
     "metadata": {
      "needs_background": "light"
     },
     "output_type": "display_data"
    }
   ],
   "source": [
    "# Plotting the graph\n",
    "plt.plot(sample_sizes, mccall_estimates, '.', label = 'MC estimates', color = 'darkblue')\n",
    "plt.plot(sample_sizes, mccall_estimates-3*mccall_se, '--', color = 'C1', label = '99.7% CI bounds')\n",
    "plt.plot(sample_sizes, mccall_estimates+3*mccall_se, '--', color = 'C1')\n",
    "plt.xlabel('Sample Size')\n",
    "plt.ylabel('Monte Carlo Estimate')\n",
    "plt.legend()\n",
    "plt.show()"
   ]
  },
  {
   "cell_type": "markdown",
   "metadata": {},
   "source": [
    "# 5 , 6 - Volatility "
   ]
  },
  {
   "cell_type": "code",
   "execution_count": 58,
   "metadata": {},
   "outputs": [
    {
     "data": {
      "text/plain": [
       "Text(0.5, 1.0, 'Facebook Option Volatility Smile')"
      ]
     },
     "execution_count": 58,
     "metadata": {},
     "output_type": "execute_result"
    },
    {
     "data": {
      "image/png": "[encoded data removed]",
      "text/plain": [
       "<Figure size 432x288 with 1 Axes>"
      ]
     },
     "metadata": {
      "needs_background": "light"
     },
     "output_type": "display_data"
    }
   ],
   "source": [
    "# Market information\n",
    "# one month T-bill rate - 2.22%\n",
    "\n",
    "r = 2.22 # https://www.google.com/url?sa=t&rct=j&q=&esrc=s&source=web&cd=&cad=rja&uact=8&ved=2ahUKEwigvdac-aj5AhXbjYkEHYIxAOUQFnoECBIQAw&url=https%3A%2F%2Fycharts.com%2Findicators%2F1_month_treasury_rate%23%3A~%3Atext%3D1%2520Month%2520Treasury%2520Rate%2520is%2520at%25202.22%2525%252C%2520compared%2520to%25202.20%2Clong%2520term%2520average%2520of%25201.17%2525.&usg=AOvVaw0GYO67ilStHS_tEjzTL6OZ\n",
    "\n",
    "\n",
    "# Share specific information\n",
    "S0 = 160.11\n",
    "sigma = 0.3\n",
    "gamma = 0.75\n",
    "T = 1\n",
    "\n",
    "# call price under CEV\n",
    "z = 2+1/(1-gamma)\n",
    "def C(t, K):\n",
    "    kappa = 2*r/(sigma**2*(1-gamma)*(np.exp(2*r*(1-gamma)*t)-1))\n",
    "    x = kappa*S0**(2*(1-gamma))*np.exp(2*r*(1-gamma)*t)\n",
    "    y = kappa*K**(2*(1-gamma))\n",
    "    return S0*(1-norm.cdf(y, z, x))-K*np.exp(-r*t)*norm.cdf(x, z-2, y)\n",
    "\n",
    "# strikes to test volatility\n",
    "test_strikes = np.linspace(120, 200, 81)\n",
    "\n",
    "# Estimating partial derivatives\n",
    "delta_t = 0.01\n",
    "delta_K = 0.01\n",
    "dC_dT = (C(T+delta_t, test_strikes) - C(T-delta_t, test_strikes))/(2*delta_t)\n",
    "dC_dK = (C(T, test_strikes+delta_K)-C(T, test_strikes-delta_K))/(2*delta_K)\n",
    "d2C_dK2 = (C(T, test_strikes+2*delta_K)-2*C(T, test_strikes+delta_K)+C(T, test_strikes))/(delta_K**2)\n",
    "\n",
    "\n",
    "# Estimating local volatility - Dupire Equation\n",
    "vol_est = np.sqrt(2)/test_strikes*np.sqrt((dC_dT+r*test_strikes*dC_dK)/d2C_dK2)\n",
    "\n",
    "\n",
    "# Plotting closed-form and Dupire equation\n",
    "plt.plot(test_strikes, sigma*test_strikes**(gamma-1))\n",
    "plt.plot(test_strikes, vol_est, '.')\n",
    "plt.xlabel(\"Strikes\")\n",
    "plt.ylabel(\"Implied Volatility\")\n",
    "plt.title(\"Facebook Option Volatility Smile\")"
   ]
  },
  {
   "cell_type": "markdown",
   "metadata": {},
   "source": [
    "# Implied Volatility with Newton Raphson "
   ]
  },
  {
   "cell_type": "code",
   "execution_count": 59,
   "metadata": {},
   "outputs": [
    {
     "name": "stdout",
     "output_type": "stream",
     "text": [
      "40.419209437161115 160.11 170.11 1 2.22\n",
      "Initial volatility 0.6327895397752807\n",
      "nan\n"
     ]
    },
    {
     "name": "stderr",
     "output_type": "stream",
     "text": [
      "C:\\Users\\gaura\\anaconda3\\envs\\newenv\\lib\\site-packages\\ipykernel_launcher.py:21: RuntimeWarning: divide by zero encountered in double_scalars\n",
      "C:\\Users\\gaura\\anaconda3\\envs\\newenv\\lib\\site-packages\\ipykernel_launcher.py:12: RuntimeWarning: invalid value encountered in double_scalars\n",
      "  if sys.path[0] == '':\n",
      "C:\\Users\\gaura\\anaconda3\\envs\\newenv\\lib\\site-packages\\scipy\\stats\\_distn_infrastructure.py:903: RuntimeWarning: invalid value encountered in greater\n",
      "  return (a < x) & (x < b)\n",
      "C:\\Users\\gaura\\anaconda3\\envs\\newenv\\lib\\site-packages\\scipy\\stats\\_distn_infrastructure.py:903: RuntimeWarning: invalid value encountered in less\n",
      "  return (a < x) & (x < b)\n",
      "C:\\Users\\gaura\\anaconda3\\envs\\newenv\\lib\\site-packages\\scipy\\stats\\_distn_infrastructure.py:1827: RuntimeWarning: invalid value encountered in greater_equal\n",
      "  cond2 = (x >= np.asarray(_b)) & cond0\n",
      "C:\\Users\\gaura\\anaconda3\\envs\\newenv\\lib\\site-packages\\ipykernel_launcher.py:16: RuntimeWarning: invalid value encountered in double_scalars\n",
      "  app.launch_new_instance()\n",
      "C:\\Users\\gaura\\anaconda3\\envs\\newenv\\lib\\site-packages\\scipy\\stats\\_distn_infrastructure.py:899: RuntimeWarning: invalid value encountered in greater_equal\n",
      "  return (a <= x) & (x <= b)\n",
      "C:\\Users\\gaura\\anaconda3\\envs\\newenv\\lib\\site-packages\\scipy\\stats\\_distn_infrastructure.py:899: RuntimeWarning: invalid value encountered in less_equal\n",
      "  return (a <= x) & (x <= b)\n"
     ]
    }
   ],
   "source": [
    "test_strike = S0+10\n",
    "# strike as the current price\n",
    "K = test_strike\n",
    "op_price=C(T, K)\n",
    "print(op_price, S0, K, T, r)\n",
    "\n",
    "def nr(op_price, S0, K, T, r):\n",
    "    v = np.sqrt(2*np.pi/T)*op_price/S0\n",
    "    v_old = v\n",
    "    print(\"Initial volatility\", v_old)\n",
    "    for i in range(1, 100):\n",
    "        d1 = (np.log(S0/K)+(r+0.5*v**2)*T)/(v*np.sqrt(T))\n",
    "        d2 = d1 - v*np.sqrt(T)\n",
    "        \n",
    "        f = S0*norm.cdf(d1)- K*np.exp(-r*T)*norm.cdf(d2)-op_price\n",
    "        d11 = (v*82*T*np.sqrt(T) - (np.log(S0/K)+(r+v**2/2)*T)*np.sqrt(T))/(v**2*T)\n",
    "        d22 = d11 - np.sqrt(T)\n",
    "        \n",
    "        f1 = S0*norm.pdf(d1)*d11-K*np.exp(-r*T)*norm.pdf(d2)*d22\n",
    "        \n",
    "        v = v-f/f1\n",
    "        \n",
    "        if(abs(v-v_old)<1e-25):\n",
    "           break\n",
    "        v_old = v\n",
    "            \n",
    "    return v\n",
    "imp_vol = nr(op_price, S0, K, T, r)\n",
    "print(imp_vol)\n",
    "       "
   ]
  },
  {
   "cell_type": "code",
   "execution_count": null,
   "metadata": {},
   "outputs": [],
   "source": [
    "\n"
   ]
  },
  {
   "cell_type": "code",
   "execution_count": null,
   "metadata": {},
   "outputs": [],
   "source": []
  }
 ],
 "metadata": {
  "kernelspec": {
   "display_name": "Python 3",
   "language": "python",
   "name": "python3"
  },
  "language_info": {
   "codemirror_mode": {
    "name": "ipython",
    "version": 3
   },
   "file_extension": ".py",
   "mimetype": "text/x-python",
   "name": "python",
   "nbconvert_exporter": "python",
   "pygments_lexer": "ipython3",
   "version": "3.7.7"
  }
 },
 "nbformat": 4,
 "nbformat_minor": 5
}
