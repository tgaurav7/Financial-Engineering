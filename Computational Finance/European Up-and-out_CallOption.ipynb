{
 "cells": [
  {
   "cell_type": "markdown",
   "metadata": {},
   "source": [
    "# Group Work Project - Computational Finance - Submission 1\n",
    "# Price a European Up-and-out Call Option"
   ]
  },
  {
   "cell_type": "code",
   "execution_count": 1,
   "metadata": {},
   "outputs": [],
   "source": [
    "# import relevant libraries\n",
    "import numpy as np\n",
    "import matplotlib.pyplot as plt\n",
    "from scipy.stats import norm"
   ]
  },
  {
   "cell_type": "code",
   "execution_count": 2,
   "metadata": {},
   "outputs": [],
   "source": [
    "# Market information\n",
    "risk_free = 0.08\n",
    "\n",
    "# Share specific information\n",
    "S_0 = 100\n",
    "sigma = 0.3\n",
    "\n",
    "# Option specific information\n",
    "strike = 100\n",
    "T = 1\n",
    "barrier = 150\n",
    "\n",
    "# Firm specific information\n",
    "V_0 = 200\n",
    "sigma_firm = 0.25\n",
    "debt = 175\n",
    "recovery_rate = 0.25\n",
    "\n",
    "# Correlation between the counterparty and the stock\n",
    "correlation = 0.2"
   ]
  },
  {
   "cell_type": "markdown",
   "metadata": {},
   "source": [
    "## 4 - Price a European call option"
   ]
  },
  {
   "cell_type": "code",
   "execution_count": 3,
   "metadata": {},
   "outputs": [
    {
     "name": "stdout",
     "output_type": "stream",
     "text": [
      "Price for vanilla European call option = $15.71\n"
     ]
    }
   ],
   "source": [
    "# Code for analytic solution for vanilla European call option\n",
    "def vanilla_euro_call(S_0, K, r, sigma, T):\n",
    "\n",
    "    '''Analytical solution for vanilla European call option        \n",
    "    \n",
    "    Parameters\n",
    "    ----------------   \n",
    "    S_0: float\n",
    "        Initial share price\n",
    "    \n",
    "    K: float\n",
    "        Option strike price\n",
    "   \n",
    "    r: float\n",
    "        risk free interest rate\n",
    "    \n",
    "    sigma: float\n",
    "        Stock volatility\n",
    "    \n",
    "    T: float\n",
    "        Time to maturity (in years)       \n",
    "    '''\n",
    "    d_1 = (np.log(S_0/K)+(r+sigma**2/2)*T)/(sigma*np.sqrt(T))\n",
    "    d_2 = d_1 - sigma*np.sqrt(T)\n",
    "\n",
    "    return S_0*norm.cdf(d_1)-K*np.exp(-r*T)*norm.cdf(d_2)\n",
    "\n",
    "\n",
    "analytic_call_price = vanilla_euro_call(S_0, strike, risk_free, sigma, T)\n",
    "\n",
    "print(f'Price for vanilla European call option = ${analytic_call_price:.2f}')"
   ]
  },
  {
   "cell_type": "markdown",
   "metadata": {},
   "source": [
    "## 5 - Price a European up-and-out barrier call option (Monte Carlo)"
   ]
  },
  {
   "cell_type": "code",
   "execution_count": 4,
   "metadata": {},
   "outputs": [],
   "source": [
    "#Helper functions for valuation\n",
    "def share_path(S_0, r, sigma, Z, dT):\n",
    "    '''Generates a share path under BSM model \n",
    "        \n",
    "        Parameters\n",
    "    ----------------   \n",
    "    S_0: float\n",
    "        Initial share price\n",
    "   \n",
    "    r: float\n",
    "        risk free interest rate\n",
    "    \n",
    "    sigma: float\n",
    "        Stock volatility\n",
    "    \n",
    "    Z: float\n",
    "        Random draw from a standard normal distribution\n",
    "    \n",
    "    dT: float\n",
    "        Time step\n",
    "    '''\n",
    "    path = S_0*np.exp(np.cumsum((r-sigma**2/2)*dT+sigma*np.sqrt(dT)*Z, axis=1))\n",
    "    return np.insert(path, [0], S_0, axis=1)\n",
    "\n",
    "def discounted_call_payoff(S_T, K, r, T):\n",
    "    '''Evaluate the discounted call payoff \n",
    "        \n",
    "        Parameters\n",
    "    ----------------   \n",
    "    S_T: float\n",
    "        Terminal share price\n",
    "   \n",
    "    K: float\n",
    "        Option strike price\n",
    "    \n",
    "    r: float\n",
    "        risk free interest rate\n",
    "    \n",
    "    T: float\n",
    "        Time to maturity (in years)\n",
    "    \n",
    "    '''   \n",
    "    return np.exp(-r*T)*np.maximum(S_T-K, 0)\n",
    "\n",
    "\n",
    "def up_and_out_call_option(S_0, K, B, r, sigma, T, n_sim):\n",
    "    '''\n",
    "    Pricing of up-and-out call options under BSM model using Monte Carlo\n",
    "    Returns: Call value and standard error of an up-and-out barrier option with European call\n",
    "\n",
    "    Parameters\n",
    "    ----------------\n",
    "    S_0: float\n",
    "        Initial stock price\n",
    "        \n",
    "    K: float\n",
    "        Strike or exercise price\n",
    "        \n",
    "    B: float\n",
    "        Barrier level\n",
    "    \n",
    "    r: float\n",
    "        Risk free interest rate\n",
    "        \n",
    "    sigma: float\n",
    "        Stock volatility\n",
    "    \n",
    "    T: float\n",
    "        Time to maturity (in years)\n",
    "    \n",
    "    n_sim: integer\n",
    "        Sample size to be simulated\n",
    "    '''\n",
    "    \n",
    "    # step size in years\n",
    "    dt = T / 12\n",
    "       \n",
    "    # Generate share paths and calculate call prices\n",
    "    Z = norm.rvs(size = (n_sim, 12))\n",
    "    stock_prices = share_path(S_0, r, sigma, Z, dt)\n",
    "    terminal_values = stock_prices[:,-1]\n",
    "    call_prices = discounted_call_payoff(terminal_values, K, r, T)*(stock_prices.max(axis=1) < B)\n",
    "\n",
    "    # Monte Carlo estimate and standard error\n",
    "    mccall_estimate = np.mean(call_prices)\n",
    "    mccall_se = np.std(call_prices)/np.sqrt(n_sim)\n",
    "\n",
    "    return mccall_estimate, mccall_se"
   ]
  },
  {
   "cell_type": "code",
   "execution_count": 5,
   "metadata": {},
   "outputs": [
    {
     "data": {
      "image/png": "[encoded data removed]",
      "text/plain": [
       "<Figure size 432x288 with 1 Axes>"
      ]
     },
     "metadata": {
      "needs_background": "light"
     },
     "output_type": "display_data"
    }
   ],
   "source": [
    "# Simulate European up-and-out barrier for different sample sizes\n",
    "\n",
    "# Set random seed for reproducibility\n",
    "np.random.seed(17)\n",
    "\n",
    "# Sample sizes to be simulated\n",
    "sample_sizes = range(1000, 51000, 1000)\n",
    "\n",
    "# Pre-allocate space to store estimates\n",
    "mccall_estimates = np.zeros(len(sample_sizes))\n",
    "mccall_se = np.zeros(len(sample_sizes))\n",
    "\n",
    "# Loop through sample sizes and calculate MC estimates\n",
    "for n in sample_sizes:\n",
    "    call = up_and_out_call_option(S_0, strike, barrier, risk_free, sigma, T, n)\n",
    "    mccall_estimates[n//1000-1] = call[0]\n",
    "    mccall_se[n//1000-1] = call[1]\n",
    "\n",
    "# Plotting the graph\n",
    "plt.plot(sample_sizes, mccall_estimates, '.', label = 'MC simulation', color='darkblue')\n",
    "plt.plot(sample_sizes, mccall_estimates-3*mccall_se, '--', color='C1', label = '99.7% CI bounds')\n",
    "plt.plot(sample_sizes, mccall_estimates+3*mccall_se, '--', color='C1')\n",
    "plt.xlabel('Sample Size')\n",
    "plt.ylabel('Monte Carlo Estimate')\n",
    "plt.legend()\n",
    "plt.show()"
   ]
  },
  {
   "cell_type": "markdown",
   "metadata": {},
   "source": [
    "## 6 - Price a European up-and-in barrier call option"
   ]
  },
  {
   "cell_type": "code",
   "execution_count": 6,
   "metadata": {},
   "outputs": [],
   "source": [
    "def up_and_in_call_option(S_0, K, B, r, sigma, T, n_sim):\n",
    "    '''\n",
    "    Pricing of up and in call options under BSM model using Monte Carlo\n",
    "    Returns: Call value and standard error of an up-and-in barrier option with European call\n",
    "\n",
    "    Parameters\n",
    "    ----------------\n",
    "    S_0: float\n",
    "        Initial stock price\n",
    "        \n",
    "    K: float\n",
    "        Strike or exercise price\n",
    "        \n",
    "    B: float\n",
    "        Barrier level\n",
    "        \n",
    "    r: float\n",
    "        Risk free interest rate\n",
    "        \n",
    "    sigma: float\n",
    "        Stock volatility\n",
    "    \n",
    "    T: float\n",
    "        Time to maturity (in years)\n",
    "    \n",
    "    n_sim: integer\n",
    "        Sample size to be simulated\n",
    "    '''\n",
    "    vanilla_call = vanilla_euro_call(S_0, K, r, sigma, T)\n",
    "    upandout_call = up_and_out_call_option(S_0, K, B, r, sigma, T, n_sim)\n",
    "\n",
    "    return vanilla_call - upandout_call[0], upandout_call[1]"
   ]
  },
  {
   "cell_type": "code",
   "execution_count": 7,
   "metadata": {},
   "outputs": [
    {
     "name": "stdout",
     "output_type": "stream",
     "text": [
      "Price for European up-and-in barrier call option = $8.96\n"
     ]
    }
   ],
   "source": [
    "# Set random seed for reproducibility\n",
    "np.random.seed(17)\n",
    "\n",
    "upandin_call = up_and_in_call_option(S_0, strike, barrier, risk_free, sigma, T, 100000)\n",
    "print(f'Price for European up-and-in barrier call option = ${upandin_call[0]:.2f}')"
   ]
  },
  {
   "cell_type": "markdown",
   "metadata": {},
   "source": [
    "## 7 - Price up-and-out barrier call option as a function of strike price"
   ]
  },
  {
   "cell_type": "code",
   "execution_count": 8,
   "metadata": {},
   "outputs": [
    {
     "data": {
      "text/html": [
       "<div>\n",
       "<style scoped>\n",
       "    .dataframe tbody tr th:only-of-type {\n",
       "        vertical-align: middle;\n",
       "    }\n",
       "\n",
       "    .dataframe tbody tr th {\n",
       "        vertical-align: top;\n",
       "    }\n",
       "\n",
       "    .dataframe thead th {\n",
       "        text-align: right;\n",
       "    }\n",
       "</style>\n",
       "<table border=\"1\" class=\"dataframe\">\n",
       "  <thead>\n",
       "    <tr style=\"text-align: right;\">\n",
       "      <th></th>\n",
       "      <th>strike</th>\n",
       "      <th>option price</th>\n",
       "    </tr>\n",
       "  </thead>\n",
       "  <tbody>\n",
       "    <tr>\n",
       "      <th>0</th>\n",
       "      <td>85</td>\n",
       "      <td>13.52</td>\n",
       "    </tr>\n",
       "    <tr>\n",
       "      <th>1</th>\n",
       "      <td>90</td>\n",
       "      <td>10.88</td>\n",
       "    </tr>\n",
       "    <tr>\n",
       "      <th>2</th>\n",
       "      <td>95</td>\n",
       "      <td>8.72</td>\n",
       "    </tr>\n",
       "    <tr>\n",
       "      <th>3</th>\n",
       "      <td>100</td>\n",
       "      <td>6.71</td>\n",
       "    </tr>\n",
       "    <tr>\n",
       "      <th>4</th>\n",
       "      <td>105</td>\n",
       "      <td>5.06</td>\n",
       "    </tr>\n",
       "    <tr>\n",
       "      <th>5</th>\n",
       "      <td>110</td>\n",
       "      <td>3.66</td>\n",
       "    </tr>\n",
       "    <tr>\n",
       "      <th>6</th>\n",
       "      <td>115</td>\n",
       "      <td>2.58</td>\n",
       "    </tr>\n",
       "  </tbody>\n",
       "</table>\n",
       "</div>"
      ],
      "text/plain": [
       "   strike option price\n",
       "0      85        13.52\n",
       "1      90        10.88\n",
       "2      95         8.72\n",
       "3     100         6.71\n",
       "4     105         5.06\n",
       "5     110         3.66\n",
       "6     115         2.58"
      ]
     },
     "execution_count": 8,
     "metadata": {},
     "output_type": "execute_result"
    }
   ],
   "source": [
    "prices = [up_and_out_call_option(S_0, k, barrier, risk_free, sigma, T, 100000)[0] for k in range(85, 120, 5)]\n",
    "\n",
    "import pandas as pd\n",
    "pd.DataFrame({'strike': range(85, 120, 5), 'option price':[format(i, '.2f') for i in prices]})"
   ]
  },
  {
   "cell_type": "markdown",
   "metadata": {},
   "source": [
    "## 8 - Monte Carlo estimates of default-free value of the option and CVA"
   ]
  },
  {
   "cell_type": "code",
   "execution_count": 9,
   "metadata": {},
   "outputs": [
    {
     "name": "stdout",
     "output_type": "stream",
     "text": [
      "Default free value of the option = 6.75\n",
      "99.7% CI bounds default free = [6.64, 6.86]\n",
      "\n",
      "CVA estimate = 4.94\n",
      "99.7% CI bounds CVA = [4.86, 5.02]\n",
      "Probability of default = 0.232962\n",
      "Uncorrelated CVA = 1.18\n"
     ]
    }
   ],
   "source": [
    "# Set random seed for reproducibility\n",
    "np.random.seed(17)\n",
    "\n",
    "# Helper functions for valuations\n",
    "def terminal_value(S_0, r, sigma, Z, T):\n",
    "    '''Generates the terminal stock price under BSM model'''\n",
    "    return S_0*np.exp((r-sigma**2/2)*T+sigma*np.sqrt(T)*Z)\n",
    "\n",
    "def up_and_out_call_payoff (path, K, B):\n",
    "    '''Evaluates the payoff of the European up-and-out barrier call option'''\n",
    "    return np.maximum(path[:,-1]-K, 0) if path.max(axis=1) < B else 0\n",
    "\n",
    "n_sim = 100000\n",
    "\n",
    "dT = T/12\n",
    "\n",
    "correl_matrix = np.array([[1, correlation],[correlation, 1]])\n",
    "\n",
    "amount_lost = np.zeros(n_sim)\n",
    "option_price = np.zeros(n_sim)\n",
    "\n",
    "for i in range(n_sim):\n",
    "    norm_matrix = norm.rvs(size=(2, 12))\n",
    "    corr_norm_matrix = np.matmul(np.linalg.cholesky(correl_matrix), norm_matrix)\n",
    "\n",
    "    stock_path = share_path(S_0, risk_free, sigma, corr_norm_matrix[0].reshape(1,-1), dT)\n",
    "    option_val = up_and_out_call_payoff(stock_path, strike, barrier)\n",
    "    \n",
    "    firm_path = share_path(S_0, risk_free, sigma_firm, corr_norm_matrix[1].reshape(1,-1), dT)\n",
    "    term_firm_val = firm_path[:, -1]\n",
    "\n",
    "    amount_lost[i] = np.exp(-risk_free*T)*(1-recovery_rate)*(term_firm_val<debt)*option_val\n",
    "    option_price[i] = np.exp(-risk_free*T)*option_val\n",
    "    \n",
    "cva_estimate = np.mean(amount_lost)\n",
    "cva_se = np.std(amount_lost)/np.sqrt(n_sim)\n",
    "\n",
    "call_estimate = option_price.mean()\n",
    "call_se = option_price.std()/np.sqrt(n_sim) \n",
    "\n",
    "# Code to calculate probability of default\n",
    "d_1 = (np.log(V_0/debt) + (risk_free+sigma_firm**2/2))/(sigma_firm*np.sqrt(T))\n",
    "d_2 = d_1 - sigma_firm*np.sqrt(T)\n",
    "default_prob = norm.cdf(-d_2)\n",
    "\n",
    "# zero correlation CVA\n",
    "uncorr_cva = (1-recovery_rate)*default_prob*call_estimate\n",
    "\n",
    "print(f'Default free value of the option = {call_estimate:.2f}')\n",
    "print(f'99.7% CI bounds default free = [{call_estimate-3*call_se:.2f}, {call_estimate+3*call_se:.2f}]')\n",
    "print()\n",
    "print(f'CVA estimate = {cva_estimate:.2f}')\n",
    "print(f'99.7% CI bounds CVA = [{cva_estimate-3*cva_se:.2f}, {cva_estimate+3*cva_se:.2f}]')\n",
    "print(f'Probability of default = {default_prob:g}')\n",
    "print(f'Uncorrelated CVA = {uncorr_cva:.2f}')"
   ]
  },
  {
   "cell_type": "markdown",
   "metadata": {},
   "source": [
    "## 9 - Monte Carlo estimates for the price of the option incorporating counterparty risk"
   ]
  },
  {
   "cell_type": "code",
   "execution_count": 13,
   "metadata": {},
   "outputs": [
    {
     "name": "stdout",
     "output_type": "stream",
     "text": [
      "Value of the option with counterparty risk = 1.80\n",
      "99.7% CI bounds counterparty risk = [1.77, 1.84]\n"
     ]
    }
   ],
   "source": [
    "option_price_risk = np.zeros(n_sim)\n",
    "\n",
    "for i in range(n_sim):\n",
    "    norm_matrix = norm.rvs(size=(2, 12))\n",
    "    corr_norm_matrix = np.matmul(np.linalg.cholesky(correl_matrix), norm_matrix)\n",
    "\n",
    "    stock_path = share_path(S_0, risk_free, sigma, corr_norm_matrix[0].reshape(1,-1), dT)\n",
    "    option_val = up_and_out_call_payoff(stock_path, strike, barrier)\n",
    "    \n",
    "    firm_path = share_path(S_0, risk_free, sigma_firm, corr_norm_matrix[1].reshape(1,-1), dT)\n",
    "    term_firm_val = firm_path[:, -1]\n",
    "\n",
    "    cva = np.exp(-risk_free*T)*(1-recovery_rate)*(term_firm_val<debt)*option_val\n",
    "    option_price_risk[i] = np.exp(-risk_free*T)*option_val - cva \n",
    "\n",
    "\n",
    "call_estimate_risk = option_price_risk.mean()\n",
    "call_se_risk = option_price_risk.std()/np.sqrt(n_sim) \n",
    "\n",
    "print(f'Value of the option with counterparty risk = {call_estimate_risk:.2f}')\n",
    "print(f'99.7% CI bounds counterparty risk = [{call_estimate_risk-3*call_se_risk:.2f}, {call_estimate_risk+3*call_se_risk:.2f}]')"
   ]
  },
  {
   "cell_type": "code",
   "execution_count": null,
   "metadata": {},
   "outputs": [],
   "source": []
  },
  {
   "cell_type": "code",
   "execution_count": null,
   "metadata": {},
   "outputs": [],
   "source": []
  }
 ],
 "metadata": {
  "kernelspec": {
   "display_name": "Python 3",
   "language": "python",
   "name": "python3"
  },
  "language_info": {
   "codemirror_mode": {
    "name": "ipython",
    "version": 3
   },
   "file_extension": ".py",
   "mimetype": "text/x-python",
   "name": "python",
   "nbconvert_exporter": "python",
   "pygments_lexer": "ipython3",
   "version": "3.7.7"
  }
 },
 "nbformat": 4,
 "nbformat_minor": 5
}
